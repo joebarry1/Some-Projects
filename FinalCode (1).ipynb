{
 "cells": [
  {
   "cell_type": "markdown",
   "id": "a153e147-b32e-4bff-a11b-1b164a333b50",
   "metadata": {},
   "source": [
    "# Looking Past the Basics: An Analysis of NBA Player Draymond Green and How He Contributed To A Championship Team"
   ]
  },
  {
   "cell_type": "markdown",
   "id": "b00bc36f-9bf8-4ede-8623-30d256515288",
   "metadata": {},
   "source": [
    "Basketball players in the NBA are often judged by the “basic” statistics: how many points do you score, how many rebounds do you get, and so on. However, the game is deeper than just these surface level stats. How can a player like Draymond Green of the Golden State Warriors, whose traditional stats are pedestrian at best, be a 3-time All-Star with 3 NBA championships? In my project, I am looking into more advanced statistics to examine what we miss when we judge players based on just their points, rebounds, and assists. To do so, I have collected NBA player data across 6 seasons from BasketballReference and 538 which cover many more advanced aspects of the game."
   ]
  },
  {
   "cell_type": "markdown",
   "id": "82afe2e3-fce8-4f32-8bc5-261a841c7f2b",
   "metadata": {},
   "source": [
    "## Basic Offensive Statistics"
   ]
  },
  {
   "cell_type": "markdown",
   "id": "efc12094-32ee-4388-915a-b3a12ede3693",
   "metadata": {},
   "source": [
    "The easiest way to judge NBA players is by how well they shoot the ball. Field goal percentage (the percentage of your shots which go into the basket) and points scored per game are often metrics by which the league's best players are compared. These statistics are easy to count, and have an obvious impact on any game you watch. To try to easily aggregate and display, I performed a principal component analysis on 6 typical offensive statistics (percentage of three-pointers made, percentage of two-pointers made, free throw attempts, free throws percentage, shots attempted, and assists) in order to capture the impact a player has offensively."
   ]
  },
  {
   "cell_type": "markdown",
   "id": "4e2c3530-8da5-4624-930a-4e12388ff5d4",
   "metadata": {},
   "source": [
    "In this visualization, Draymond Green is compared to the rest of the NBA players in a given season (with some minimum number of minutes played throughout the year). All-NBA players, who are the 15 best players in a given season voted on by 100 sportswriters and broadcasters, are also identified to highlight where the peak talent is."
   ]
  },
  {
   "cell_type": "code",
   "execution_count": 6,
   "id": "507387dc-f34b-4614-84d3-2e54c2fa2234",
   "metadata": {},
   "outputs": [
    {
     "data": {
      "application/vnd.jupyter.widget-view+json": {
       "model_id": "8295c53064454c91b67ec78a977690d2",
       "version_major": 2,
       "version_minor": 0
      },
      "text/plain": [
       "interactive(children=(IntSlider(value=2014, description='year', max=2019, min=2014), IntSlider(value=500, desc…"
      ]
     },
     "metadata": {},
     "output_type": "display_data"
    }
   ],
   "source": [
    "import pandas as pd\n",
    "import numpy as np\n",
    "import matplotlib.pyplot as plt\n",
    "from ipywidgets import interactive\n",
    "from sklearn.decomposition import PCA\n",
    "from sklearn.preprocessing import MinMaxScaler\n",
    "%matplotlib inline\n",
    "\n",
    "data = pd.read_csv('./data/BballrefDatav3.csv')\n",
    "data['draymond'] = np.where(data.Player.str.contains('Draymond Green'), 1, 0)\n",
    "\n",
    "def pcaplot(year = 2014, minMP = 500):\n",
    "    pca = PCA(n_components=2)\n",
    "    scale = MinMaxScaler()\n",
    "    X = data[['Thr','TwoPper','FTA','FTper','FGA','ASTper']]\n",
    "    Xs = scale.fit_transform(X)\n",
    "    Xp = pca.fit_transform(Xs)\n",
    "    dfp = pd.DataFrame(data = Xp)\n",
    "    dfp['Player'] = data['Player']\n",
    "    dfp['TRAIN'] = data['TRAIN']\n",
    "    dfp['MP'] = data['MP']\n",
    "    dfp['2014'] = np.where(dfp.Player.str.contains('2014'), 1, 0)\n",
    "    dfp['2015'] = np.where(dfp.Player.str.contains('2015'), 1, 0)\n",
    "    dfp['2016'] = np.where(dfp.Player.str.contains('2016'), 1, 0)\n",
    "    dfp['2017'] = np.where(dfp.Player.str.contains('2017'), 1, 0)\n",
    "    dfp['2018'] = np.where(dfp.Player.str.contains('2018'), 1, 0)\n",
    "    dfp['2019'] = np.where(dfp.Player.str.contains('2019'), 1, 0)\n",
    "    yeardf = dfp[dfp[str(year)] == 1]\n",
    "    yeardf = yeardf[yeardf['MP'] > minMP]\n",
    "    # note: TRAIN is a relic from previous analyses; any player with a TRAIN of 5 or more made the All-NBA team.\n",
    "    # I'm converting the variable to capture Green (2), All-NBA players (1), and others (0).\n",
    "    yeardf.loc[(yeardf.TRAIN < 5), ('TRAIN')] = 0\n",
    "    yeardf.loc[(yeardf.TRAIN > 0), ('TRAIN')] = 1\n",
    "    yeardf.loc[(yeardf.Player.str.contains('Draymond Green')), ('TRAIN')] = 2\n",
    "    yeardf.columns.values[0] = 'PCA1'\n",
    "    yeardf.columns.values[1] = 'PCA2'\n",
    "    yeardf.columns = yeardf.columns.str.strip()\n",
    "    draydf = yeardf.loc[yeardf['TRAIN'] == 2]\n",
    "    allnbadf = yeardf.loc[yeardf['TRAIN'] == 1]\n",
    "    restdf = yeardf.loc[yeardf['TRAIN'] == 0]\n",
    "    plt.figure(figsize = (10,10))\n",
    "    ax = plt.gca()\n",
    "    ax1 = ax.scatter(restdf.PCA1, restdf.PCA2, ec = 'gray', alpha = 0.5, s = 75)\n",
    "    ax2 = ax.scatter(allnbadf.PCA1, allnbadf.PCA2, ec = 'gray', alpha = 0.5, s = 75)\n",
    "    ax3 = ax.scatter(draydf.PCA1, draydf.PCA2, ec = 'black', alpha = 1, s = 100)\n",
    "    plt.legend(['Other Players','All-NBA','Draymond Green'],\n",
    "                fontsize=14,\n",
    "                bbox_to_anchor = (0.3,1))\n",
    "    plt.ylabel('PCA1, \\n 42% Explained', fontsize = 14, rotation = 0, labelpad = 25)\n",
    "    plt.xlabel('PCA2, 23% Explained', fontsize = 14)\n",
    "    ax.get_xaxis().set_ticks([])\n",
    "    ax.get_yaxis().set_ticks([])\n",
    "    plt.title(\"PCA of Basic Offensive Statistics\", fontsize = 17)\n",
    "    plt.grid(axis = 'both', color = 'gray', alpha = .5)\n",
    "    [ax.spines[s].set_visible(False) for s in ax.spines]\n",
    "    plt.show()\n",
    "    \n",
    "    \n",
    "interactive_plot = interactive(pcaplot,\n",
    "                               year = (2014, 2019, 1),\n",
    "                               minMP = (500, 2000, 100))\n",
    "output = interactive_plot.children[-1]\n",
    "output.layout.height = '600px'\n",
    "interactive_plot"
   ]
  },
  {
   "cell_type": "markdown",
   "id": "ba873980-f03c-4729-b5c0-5f7c5f288f9c",
   "metadata": {},
   "source": [
    "Based on this data, it is hard to believe that Green is anywhere near the talent level of the best players in the league. Regardless, he is considered to be that good. In fact, he made the All-NBA team in two of the years displayed; in 2016 and 2017. There must be something deeper which explains why he is such an outlier."
   ]
  },
  {
   "cell_type": "markdown",
   "id": "6f6a9bcd-9b30-4577-8697-598965d460ab",
   "metadata": {},
   "source": [
    "## Defense: Affecting Shots and Winning Games"
   ]
  },
  {
   "cell_type": "markdown",
   "id": "81bd8125-fda0-4fcf-b803-404f5686494f",
   "metadata": {},
   "source": [
    "It is harder to quantify the impact a player has in basketball defensively. It is inherently more cooperative than offense. It is often difficult to tell who is guarding who on a given possession, let alone what impact they have on a shot. However, the politics and sports statistics site FiveThirtyEight tried to quantify the average impact a defender has on a shot using spatial data to see who was the closest defender on a given shot. By adjusting for the skill of the shooter, they were able to come up with a metric which captures the change in field goal percentage that a player provides on whomever they are guarding."
   ]
  },
  {
   "cell_type": "markdown",
   "id": "0452844b-be63-454a-8b29-0871803f3ae6",
   "metadata": {},
   "source": [
    "Unlike traditional statistics, this metric captures the impact of Green. Over the six years analyzed, he has the most significant impact of opponents' shot out of the players analyzed."
   ]
  },
  {
   "cell_type": "markdown",
   "id": "667c98f8-d83d-4997-bd2f-f01de1e8a742",
   "metadata": {},
   "source": [
    "In the following scatter plot, this metric, and a different metric measuring defensive impact called defensive win shares (the number of wins you are predicted to provide your team over the course of a season through your defensive impact), plotted against one other. In this chart, it is clear that Green is among the best."
   ]
  },
  {
   "cell_type": "code",
   "execution_count": 7,
   "id": "2a08a037-9374-4f7f-aee3-3e9d7f26115d",
   "metadata": {},
   "outputs": [
    {
     "data": {
      "application/vnd.jupyter.widget-view+json": {
       "model_id": "5a72909cbc0245f39cc41850e8dfa95c",
       "version_major": 2,
       "version_minor": 0
      },
      "text/plain": [
       "interactive(children=(IntSlider(value=2016, description='year', max=2019, min=2014), IntSlider(value=500, desc…"
      ]
     },
     "metadata": {},
     "output_type": "display_data"
    }
   ],
   "source": [
    "def defense_plot(year, MinMP = 500):\n",
    "    import matplotlib.ticker as mticker\n",
    "    data['2014'] = np.where(data.Player.str.contains('2014'), 1, 0)\n",
    "    data['2015'] = np.where(data.Player.str.contains('2015'), 1, 0)\n",
    "    data['2016'] = np.where(data.Player.str.contains('2016'), 1, 0)\n",
    "    data['2017'] = np.where(data.Player.str.contains('2017'), 1, 0)\n",
    "    data['2018'] = np.where(data.Player.str.contains('2018'), 1, 0)\n",
    "    data['2019'] = np.where(data.Player.str.contains('2019'), 1, 0)\n",
    "    yeardata = data.loc[data[str(year)] == 1]\n",
    "    yeardf = yeardata.loc[yeardata['MP'] > MinMP]\n",
    "    yeardf = pd.DataFrame(data = yeardf)\n",
    "    yeardf.loc[(yeardf.TRAIN < 5), ('TRAIN')] = 0\n",
    "    yeardf.loc[(yeardf.TRAIN > 0), ('TRAIN')] = 1\n",
    "    yeardf.loc[(yeardf.Player.str.contains('Draymond Green')), ('TRAIN')] = 2\n",
    "    draydf = yeardf.loc[yeardf['TRAIN'] == 2]\n",
    "    allnbadf = yeardf.loc[yeardf['TRAIN'] == 1]\n",
    "    restdf = yeardf.loc[yeardf['TRAIN'] == 0]\n",
    "    plt.figure(figsize = (10,10))\n",
    "    ax = plt.gca()\n",
    "    ax1 = ax.scatter(restdf.Draymond, restdf.DWS, ec = 'gray', alpha = 0.5, s = 75)\n",
    "    ax2 = ax.scatter(allnbadf.Draymond, allnbadf.DWS, ec = 'gray', alpha = 0.5, s = 75)\n",
    "    ax3 = ax.scatter(draydf.Draymond, draydf.DWS, ec = 'black', alpha = 1, s = 100)\n",
    "    plt.legend(['Other Players', 'All-NBA Players', 'Draymond Green'],\n",
    "                fontsize=14,\n",
    "                bbox_to_anchor = (0.3,1))\n",
    "    ticks_loc = ax.get_xticks().tolist()\n",
    "    ax.xaxis.set_major_locator(mticker.FixedLocator(ticks_loc))\n",
    "    ax.set_xticklabels([-x for x in ticks_loc], fontsize = 15)\n",
    "    plt.ylabel('Defensive \\n Win Shares', fontsize = 14, rotation = 0, labelpad = 40)\n",
    "    plt.xlabel('Effect on Opponent FG Percentage', fontsize = 14)\n",
    "    plt.title(\"Draymond Green Excels Defensively\", fontsize = 17)\n",
    "    plt.grid(axis = 'both', color = 'gray', alpha = .5)\n",
    "    [ax.spines[s].set_visible(False) for s in ax.spines]\n",
    "    plt.show()\n",
    "    \n",
    "interactive_plot = interactive(defense_plot,\n",
    "                               year = (2014, 2019, 1),\n",
    "                               MinMP = (500, 2000, 100))\n",
    "output = interactive_plot.children[-1]\n",
    "output.layout.height = '700px'\n",
    "interactive_plot"
   ]
  },
  {
   "cell_type": "markdown",
   "id": "90d47707-df75-408d-ad0b-ba3b33f9e643",
   "metadata": {},
   "source": [
    "## Putting It All Together"
   ]
  },
  {
   "cell_type": "markdown",
   "id": "d461d609-9ea2-409a-8c81-50ed34e48b0d",
   "metadata": {},
   "source": [
    "We have seen that, while Draymond Green may be only average offensively, he is able to impact the game heavily on defense. However, when it is all put together, is there any way to tell whether his total impact is positive? In a real game where both offense and defense matter, do I want Green on my team?"
   ]
  },
  {
   "cell_type": "markdown",
   "id": "d56f7d7b-df88-45a4-b639-932eb8d9a5a3",
   "metadata": {},
   "source": [
    "There are a few advanced metrics which try to quantify a player’s total impact on a basketball game. One is win shares (WS), which estimates the number of wins a player will contribute to a team in total throughout a season. The defensive subset of this statistic was used above, but there is a combined version which can capture complete impact. Another is VORP, or Value Over Replacement Player. This estimates the points a player contributes to a team per 100 possessions over the average replacement player."
   ]
  },
  {
   "cell_type": "markdown",
   "id": "bfc32b79-7bc7-429f-a5f1-c906ac795d9d",
   "metadata": {},
   "source": [
    "Using a scatter plot of these two metrics, we should be able to best visualize the impact Green has compared to the rest of the NBA."
   ]
  },
  {
   "cell_type": "code",
   "execution_count": 8,
   "id": "ab07f3ef-1c10-4268-968a-14d6bfd8008d",
   "metadata": {},
   "outputs": [
    {
     "data": {
      "application/vnd.jupyter.widget-view+json": {
       "model_id": "152a26967b9044338ac877c77309558e",
       "version_major": 2,
       "version_minor": 0
      },
      "text/plain": [
       "interactive(children=(IntSlider(value=2016, description='year', max=2019, min=2014), IntSlider(value=500, desc…"
      ]
     },
     "metadata": {},
     "output_type": "display_data"
    }
   ],
   "source": [
    "def wins_plot(year, MinMP = 500):\n",
    "    data['2014'] = np.where(data.Player.str.contains('2014'), 1, 0)\n",
    "    data['2015'] = np.where(data.Player.str.contains('2015'), 1, 0)\n",
    "    data['2016'] = np.where(data.Player.str.contains('2016'), 1, 0)\n",
    "    data['2017'] = np.where(data.Player.str.contains('2017'), 1, 0)\n",
    "    data['2018'] = np.where(data.Player.str.contains('2018'), 1, 0)\n",
    "    data['2019'] = np.where(data.Player.str.contains('2019'), 1, 0)\n",
    "    yeardata = data.loc[data[str(year)] == 1]\n",
    "    yeardf = yeardata.loc[yeardata['MP'] > MinMP]\n",
    "    yeardf = pd.DataFrame(data = yeardf)\n",
    "    yeardf.loc[(yeardf.TRAIN < 5), ('TRAIN')] = 0\n",
    "    yeardf.loc[(yeardf.TRAIN > 0), ('TRAIN')] = 1\n",
    "    yeardf.loc[(yeardf.Player.str.contains('Draymond Green')), ('TRAIN')] = 2\n",
    "    draydf = yeardf.loc[yeardf['TRAIN'] == 2]\n",
    "    allnbadf = yeardf.loc[yeardf['TRAIN'] == 1]\n",
    "    restdf = yeardf.loc[yeardf['TRAIN'] == 0]\n",
    "    plt.figure(figsize = (10,10))\n",
    "    ax = plt.gca()\n",
    "    ax1 = ax.scatter(restdf.VORP, restdf.WS, ec = 'gray', alpha = 0.5, s = 75)\n",
    "    ax2 = ax.scatter(allnbadf.VORP, allnbadf.WS, ec = 'gray', alpha = 0.5, s = 75)\n",
    "    ax3 = ax.scatter(draydf.VORP, draydf.WS, ec = 'black', alpha = 1, s = 100)\n",
    "    plt.legend(['Other Players', 'All-NBA Players', 'Draymond Green'],\n",
    "                fontsize=14,\n",
    "                bbox_to_anchor = (0.3,1))\n",
    "    yvals = ax.get_yticks()\n",
    "    xvals = ax.get_xticks()\n",
    "    plt.ylabel('Win Shares', fontsize = 14, rotation = 0, labelpad = 40)\n",
    "    plt.xlabel('Value Over Replacement Player', fontsize = 14)\n",
    "    plt.title(\"Draymond Green's Overall Value\", fontsize = 17)\n",
    "    plt.grid(axis = 'both', color = 'gray', alpha = .5)\n",
    "    [ax.spines[s].set_visible(False) for s in ax.spines]\n",
    "    plt.show()\n",
    "    \n",
    "interactive_plot = interactive(wins_plot,\n",
    "                               year = (2014, 2019, 1),\n",
    "                               MinMP = (500, 2000, 100))\n",
    "output = interactive_plot.children[-1]\n",
    "output.layout.height = '700px'\n",
    "interactive_plot"
   ]
  },
  {
   "cell_type": "markdown",
   "id": "40e8c2ca-c0e5-44ae-950f-c8b4e06a46b1",
   "metadata": {},
   "source": [
    "Looking year by year, it seems as though Draymond Green has varying levels of overall value. However, with the exception perhaps of 2014 and 2019, he is consistently well above the average player. It appears as though his 2016 and 2017 All-NBA labels are well justified, and he may have deserved to receive the award in 2015 as well. This is despite having an offensive impact which is only around the league average, yet made up for by exceptional defense. It is safe to say that over this period, Green was worthy of the accolades he received and the credit he was given as an integral part of the Golden State Warriors during their 3 championship seasons.\n"
   ]
  },
  {
   "cell_type": "markdown",
   "id": "785dd9b9-a0ff-4510-82ba-d1d1fc4b4617",
   "metadata": {},
   "source": [
    "### References\n",
    "- For opponent field goal percentage statistics: https://fivethirtyeight.com/features/a-better-way-to-evaluate-nba-defense/\n",
    "- For all other statistics and All-NBA selections: https://www.basketball-reference.com/"
   ]
  }
 ],
 "metadata": {
  "kernelspec": {
   "display_name": "Python 3",
   "language": "python",
   "name": "python3"
  },
  "language_info": {
   "codemirror_mode": {
    "name": "ipython",
    "version": 3
   },
   "file_extension": ".py",
   "mimetype": "text/x-python",
   "name": "python",
   "nbconvert_exporter": "python",
   "pygments_lexer": "ipython3",
   "version": "3.9.2"
  }
 },
 "nbformat": 4,
 "nbformat_minor": 5
}
